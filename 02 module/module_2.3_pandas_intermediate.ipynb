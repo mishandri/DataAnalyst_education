{
 "cells": [
  {
   "cell_type": "markdown",
   "metadata": {},
   "source": [
    "<center>\n",
    "<img src=\"https://cdn.megabonus.com/images/shop_logo/skillbox.png\"/>\n",
    "# Курс аналитик данных на Python  \n",
    "    \n",
    "## Модуль 2.3. Pandas intermediate. Швейцарский нож аналитика."
   ]
  },
  {
   "cell_type": "markdown",
   "metadata": {},
   "source": [
    "Итак, в этом уроке мы немного шире взглянем на библиотеку [**Pandas**](http://pandas.pydata.org/pandas-docs/stable/) и поймем как работает `Python` с полноценными табличными данными.<br>\n",
    "\n",
    "Итак, мы:\n",
    "* загрузим файл, который весит **14 мегабайт**.;\n",
    "* поймем как **манипулировать данными**: выбирать определенные значения и колонки;\n",
    "* освоим **методы, которые постоянно используются** при работе с данными в Pandas."
   ]
  },
  {
   "cell_type": "markdown",
   "metadata": {},
   "source": [
    "Сначала импортируем библиотеки"
   ]
  },
  {
   "cell_type": "code",
   "execution_count": 1,
   "metadata": {},
   "outputs": [],
   "source": [
    "import numpy as np\n",
    "import pandas as pd"
   ]
  },
  {
   "cell_type": "markdown",
   "metadata": {},
   "source": [
    "#### Загружаем файл"
   ]
  },
  {
   "cell_type": "markdown",
   "metadata": {},
   "source": [
    "Для начала прочитаем данные с помощью библиотеки [**Pandas**](http://pandas.pydata.org/pandas-docs/stable/).<br>\n",
    "Наши довольно много весят. В распакованном виде экселевская табличка **весит около 14 мегабайт.**<br>\n",
    "Это сатистические данные по демографии в США за 2015 год. Такие данные как нельзя лучше подходят для того чтобы научиться работать с [**Pandas**](http://pandas.pydata.org/pandas-docs/stable/)."
   ]
  },
  {
   "cell_type": "code",
   "execution_count": 2,
   "metadata": {},
   "outputs": [],
   "source": [
    "data = pd.read_csv('../data/acs2015_census_tract_data.csv.gz', compression='gzip')"
   ]
  },
  {
   "cell_type": "markdown",
   "metadata": {},
   "source": [
    "#### Смотрим размерности таблицы"
   ]
  },
  {
   "cell_type": "markdown",
   "metadata": {},
   "source": [
    "Как и прежде, первое с чего нужно начать это с того чтобы понять что перед нами за данные.<br>\n",
    "Сначала хотелось бы понять на сколько большая перед нами таблица. В этом нам поможет метод **.shape()**, который передает количество строк и колонок."
   ]
  },
  {
   "cell_type": "code",
   "execution_count": 3,
   "metadata": {},
   "outputs": [],
   "source": [
    "data.shape"
   ]
  },
  {
   "cell_type": "markdown",
   "metadata": {},
   "source": [
    "Далее хотелось бы посмотреть на саму табличку и какие в ней есть колонки. В этом нам поможет метод **.head()** и **.info()**."
   ]
  },
  {
   "cell_type": "code",
   "execution_count": 4,
   "metadata": {},
   "outputs": [],
   "source": [
    "data.head(3)"
   ]
  },
  {
   "cell_type": "markdown",
   "metadata": {},
   "source": [
    "Можем сделать немного красивее."
   ]
  },
  {
   "cell_type": "code",
   "execution_count": 5,
   "metadata": {},
   "outputs": [],
   "source": [
    "print('У нас %s строк и %s колонок.'%data.shape)\n",
    "print('---')\n",
    "print(data.info())"
   ]
  },
  {
   "cell_type": "markdown",
   "metadata": {},
   "source": [
    "#### Работа с колонками "
   ]
  },
  {
   "cell_type": "markdown",
   "metadata": {},
   "source": [
    "Также мы можем получить список с названиями колонок с помощью метода **.columns**. В данном случае это аттрибут уже построенной таблицы, так что скобки ставить не нужно, тк аттрибут не подразумевает передачу каких либо переменных."
   ]
  },
  {
   "cell_type": "code",
   "execution_count": 6,
   "metadata": {},
   "outputs": [],
   "source": [
    "data.columns"
   ]
  },
  {
   "cell_type": "code",
   "execution_count": 7,
   "metadata": {},
   "outputs": [],
   "source": [
    "data.head()"
   ]
  },
  {
   "cell_type": "markdown",
   "metadata": {},
   "source": [
    "Мы также можем выбрать какие-то определенные колонки, например `State`,`County`,`Unemployment`. <br>\n",
    "Для этого мы объединяем их лист `['State','County','Unemployment']` и выделяем только их.  "
   ]
  },
  {
   "cell_type": "code",
   "execution_count": 8,
   "metadata": {},
   "outputs": [],
   "source": [
    "data[['State','County','Unemployment']].head()"
   ]
  },
  {
   "cell_type": "markdown",
   "metadata": {},
   "source": [
    "В `Pandas` можно указывать название колонки в одинарных и двойных кавычках `('' и \"\")`, а так же через точку, как например ниже."
   ]
  },
  {
   "cell_type": "code",
   "execution_count": 9,
   "metadata": {},
   "outputs": [],
   "source": [
    "data.CensusTract.head(n=10)"
   ]
  },
  {
   "cell_type": "markdown",
   "metadata": {},
   "source": [
    "#### Индексирование и срезы"
   ]
  },
  {
   "cell_type": "markdown",
   "metadata": {},
   "source": [
    "Передавая цифры через двоеточие мы можем проиндексировать и как-бы 'срезать' часть нашего датафрейма."
   ]
  },
  {
   "cell_type": "code",
   "execution_count": 10,
   "metadata": {},
   "outputs": [],
   "source": [
    "data[0:5] # Напоминаю, что индексация в Python ведется с 0."
   ]
  },
  {
   "cell_type": "markdown",
   "metadata": {},
   "source": [
    "Можно не указывать ограничения и тогда индексирование возьмет по дефолту все значения."
   ]
  },
  {
   "cell_type": "code",
   "execution_count": 11,
   "metadata": {},
   "outputs": [],
   "source": [
    "data[:5] "
   ]
  },
  {
   "cell_type": "markdown",
   "metadata": {},
   "source": [
    "Посмотрим последние 5 рядов"
   ]
  },
  {
   "cell_type": "code",
   "execution_count": 12,
   "metadata": {},
   "outputs": [],
   "source": [
    "data[-5:]"
   ]
  },
  {
   "cell_type": "markdown",
   "metadata": {},
   "source": [
    "Возьмем прошлый кусок таблицы для наглядности.<br>\n",
    "Также можно перевернуть датафрейм, передав -1 третьим аргументом в методе. Сравните с прошлой ячейкой."
   ]
  },
  {
   "cell_type": "code",
   "execution_count": 13,
   "metadata": {},
   "outputs": [],
   "source": [
    "chunk = data[73996:] \n",
    "chunk[::-1] "
   ]
  },
  {
   "cell_type": "markdown",
   "metadata": {},
   "source": [
    "Можем вынести кажду тысячную строчку, а тк как у нас таблица немногим более 74К строк, то выйдет всего 8 строчек"
   ]
  },
  {
   "cell_type": "code",
   "execution_count": 14,
   "metadata": {},
   "outputs": [],
   "source": [
    "data[::10000]"
   ]
  },
  {
   "cell_type": "markdown",
   "metadata": {},
   "source": [
    "Также можно выделять колонки с помощью метода **.iloc[ ]**, который совмещает 2 метода выше, принимая на вход сначала срез по строчкам, а потом по столбцам."
   ]
  },
  {
   "cell_type": "code",
   "execution_count": 15,
   "metadata": {},
   "outputs": [],
   "source": [
    "data.iloc[1:5,:] # первые 5 строк всей таблицы"
   ]
  },
  {
   "cell_type": "code",
   "execution_count": 16,
   "metadata": {},
   "outputs": [],
   "source": [
    "data.iloc[1:5,1:10] # первые 5 строк первых 10 столбцов"
   ]
  },
  {
   "cell_type": "code",
   "execution_count": 17,
   "metadata": {},
   "outputs": [],
   "source": [
    "data.iloc[1:5,-5:] # первые 5 строк последних 5 столбцов"
   ]
  },
  {
   "cell_type": "markdown",
   "metadata": {},
   "source": [
    "Напомню, что всегда можно посмотреть документацию по методам, если что-то не помним или запутались."
   ]
  },
  {
   "cell_type": "code",
   "execution_count": 18,
   "metadata": {},
   "outputs": [],
   "source": [
    "??data.iloc[1:5]"
   ]
  },
  {
   "cell_type": "markdown",
   "metadata": {},
   "source": [
    "#### Простые манипуляции с данными"
   ]
  },
  {
   "cell_type": "markdown",
   "metadata": {},
   "source": [
    "Теперь, когда м поняли как манипулировать строка и столбцами, хотелось бы как-то манипулировать таблицей, основываясь на данных которые в ней заключены."
   ]
  },
  {
   "cell_type": "markdown",
   "metadata": {},
   "source": [
    "Можно делать логические операции сравнения. Например, посмотрим где процент чернокожего населенияв США больше 50 процентов."
   ]
  },
  {
   "cell_type": "code",
   "execution_count": 19,
   "metadata": {},
   "outputs": [],
   "source": [
    "(data['Black'] > 50).head()"
   ]
  },
  {
   "cell_type": "markdown",
   "metadata": {},
   "source": [
    "И выделим только эти строки."
   ]
  },
  {
   "cell_type": "code",
   "execution_count": 20,
   "metadata": {},
   "outputs": [],
   "source": [
    "data[data['Black'] > 50].head()"
   ]
  },
  {
   "cell_type": "markdown",
   "metadata": {},
   "source": [
    "Можно посмотреть только штаты для этого условия."
   ]
  },
  {
   "cell_type": "code",
   "execution_count": 21,
   "metadata": {},
   "outputs": [],
   "source": [
    "data[data['Black'] > 50]['State'].head()"
   ]
  },
  {
   "cell_type": "markdown",
   "metadata": {},
   "source": [
    "Это очень не удобно даже небольших датасетах,так что посмотрим уникальные значения. В этом нам поможет метод **.unique()**"
   ]
  },
  {
   "cell_type": "code",
   "execution_count": 22,
   "metadata": {},
   "outputs": [],
   "source": [
    "data[data['Black'] > 50]['State'].unique()"
   ]
  },
  {
   "cell_type": "markdown",
   "metadata": {},
   "source": [
    "Этого же можно достигнуть просто сбросив дубликаты методом **.drop_duplicates()**."
   ]
  },
  {
   "cell_type": "code",
   "execution_count": 23,
   "metadata": {},
   "outputs": [],
   "source": [
    "data[data['Black'] > 50]['State'].drop_duplicates()"
   ]
  },
  {
   "cell_type": "markdown",
   "metadata": {},
   "source": [
    "В реально жизни нужно комбинировать условия и это не проблема для **Pandas**. Например найдем штаты, где больше половины чернокожего населения и процент безработицы больше 50 процентов =(  <br>\n",
    "Просто добавим еще одно условие в наз запрос и он покажет штаты."
   ]
  },
  {
   "cell_type": "code",
   "execution_count": 24,
   "metadata": {
    "scrolled": true
   },
   "outputs": [],
   "source": [
    "data[(data['Black'] > 50)&(data['Unemployment']>50)]['State'].unique()"
   ]
  },
  {
   "cell_type": "markdown",
   "metadata": {},
   "source": [
    "#### Простые статистики"
   ]
  },
  {
   "cell_type": "markdown",
   "metadata": {},
   "source": [
    "Когда мы поняли как обращаться и манипулировать таблицей, можно посмотреть какие-то простые статистики и первое что нам поможет это метод **.describe()**, который выводит базовую статистику по всем колонкам."
   ]
  },
  {
   "cell_type": "code",
   "execution_count": 25,
   "metadata": {},
   "outputs": [],
   "source": [
    "data.describe()"
   ]
  },
  {
   "cell_type": "markdown",
   "metadata": {},
   "source": [
    "Очень полезным методом является **value_counts()**, который позволяет посчитать значения, например в разрезе категории.<br>\n",
    "Для того чтобы разбить наш датасет на категории, нам понадобится еще один метод, а именно жемчужина **Pandas**, а именно метод **.groupby()**<br>\n",
    "\n",
    "Давайте, например, посчитаем количество строк/событий/наблюдей по штату."
   ]
  },
  {
   "cell_type": "code",
   "execution_count": 26,
   "metadata": {},
   "outputs": [],
   "source": [
    "data.State.value_counts().head()"
   ]
  },
  {
   "cell_type": "markdown",
   "metadata": {},
   "source": [
    "Метод **value_counts()** может принимать на вход значения для параметров, например **normalize**, который нормализирует/взвесит наши значения, чтобы в сумме получилось 1. А это удобно привести к процентам, умножив на 100."
   ]
  },
  {
   "cell_type": "code",
   "execution_count": 27,
   "metadata": {},
   "outputs": [],
   "source": [
    "data.State.value_counts(normalize=True).head()*100"
   ]
  },
  {
   "cell_type": "markdown",
   "metadata": {},
   "source": [
    "Но мы хотим посчитать что-то более осмысленное, например, как количество мужчин и женщин в штатах с условиями, которые были выше. И сделать обычную табличку с процентом от колонки, чтобы понять в каком штате хуже условия. <br>\n",
    "\n",
    "Берем запрос выше и добавляем **.groupby()**, создавая вот такой объект, группируя по штату:"
   ]
  },
  {
   "cell_type": "code",
   "execution_count": 28,
   "metadata": {},
   "outputs": [],
   "source": [
    "data[(data['Black'] > 50)&(data['Unemployment']>50)].groupby('State')"
   ]
  },
  {
   "cell_type": "markdown",
   "metadata": {},
   "source": [
    "Добавим колонки по которым мы хотим посчитать сумму, а именно `['Men', 'Women']` и применим метод **.sum()**"
   ]
  },
  {
   "cell_type": "code",
   "execution_count": 29,
   "metadata": {},
   "outputs": [],
   "source": [
    "data[(data['Black'] > 50)&(data['Unemployment']>30)].groupby('State')[['Men', 'Women']].sum().head()"
   ]
  },
  {
   "cell_type": "markdown",
   "metadata": {},
   "source": [
    "До этого мы выводили объекты, а сейчас мы создадим новые объекты с нашими условиями с которым уже будет гораздо более удобнее работать.\n",
    "Посчитаем туже самую табличку, но в процентах. <br>\n",
    "\n",
    "`gender_sum` это наша таблица <br>\n",
    "`total` это сумма всех значений по мужичнам и женщинам <br>\n",
    "\n",
    "И все это делим между собой и умножаем на 100 для красоты =)"
   ]
  },
  {
   "cell_type": "code",
   "execution_count": 30,
   "metadata": {},
   "outputs": [],
   "source": [
    "gender_sum = data[(data['Black'] > 50)&(data['Unemployment']>30)].groupby('State')[['Men', 'Women']].sum()\n",
    "\n",
    "total = data[(data['Black'] > 50)&(data['Unemployment']>30)].groupby('State')[['Men', 'Women']].sum().sum()\n",
    "\n",
    "result = gender_sum/total*100\n",
    "\n",
    "result.head()"
   ]
  },
  {
   "cell_type": "markdown",
   "metadata": {},
   "source": [
    "И в завершении можно посмотреть на максимальные значения по нашей табличке и понять что в шатат Мичиган лучше ехать не стоит."
   ]
  },
  {
   "cell_type": "code",
   "execution_count": 31,
   "metadata": {
    "scrolled": true
   },
   "outputs": [],
   "source": [
    "result.style.highlight_max()"
   ]
  },
  {
   "cell_type": "markdown",
   "metadata": {},
   "source": [
    "Итого, наш скрип для табличке ниже уместился в 4 строчки (хотя можно еще меньше) и сработал за ~8 микросекунд.<br>\n",
    "А за сколько вы бы могли это сделать в экселе?)"
   ]
  },
  {
   "cell_type": "code",
   "execution_count": 32,
   "metadata": {
    "scrolled": true
   },
   "outputs": [],
   "source": [
    "import time # импортируем модуль времени, чтобы оценить наш код\n",
    "\n",
    "%time\n",
    "gender_sum = data[(data['Black'] > 50)&(data['Unemployment']>30)].groupby('State')[['Men', 'Women']].sum()\n",
    "total = data[(data['Black'] > 50)&(data['Unemployment']>30)].groupby('State')[['Men', 'Women']].sum().sum()\n",
    "result = gender_sum/total*100\n",
    "result.style.highlight_max()"
   ]
  },
  {
   "cell_type": "markdown",
   "metadata": {},
   "source": [
    "###  Домашнее задание"
   ]
  },
  {
   "cell_type": "markdown",
   "metadata": {},
   "source": [
    "На эту неделю вам предстоит разобраться с методами, которые рассматривали на уроке и почитать документацию про новые."
   ]
  },
  {
   "cell_type": "markdown",
   "metadata": {},
   "source": [
    "1) Есть ли такие графства (County) где уровень безработицы нулевой?"
   ]
  },
  {
   "cell_type": "code",
   "execution_count": null,
   "metadata": {},
   "outputs": [],
   "source": []
  },
  {
   "cell_type": "markdown",
   "metadata": {},
   "source": [
    "2) У какого штата наименьший средний уровень безработицы (используйте колонку `Unemployment` и метод **.mean()** ) ? "
   ]
  },
  {
   "cell_type": "code",
   "execution_count": null,
   "metadata": {},
   "outputs": [],
   "source": []
  },
  {
   "cell_type": "markdown",
   "metadata": {},
   "source": [
    "3) Какой наибольший средний уровень дохода (используйте колонку `Income` и метод **.mean()** ) среди штатов?"
   ]
  },
  {
   "cell_type": "code",
   "execution_count": null,
   "metadata": {},
   "outputs": [],
   "source": []
  },
  {
   "cell_type": "markdown",
   "metadata": {},
   "source": [
    "4) В каком штате самое большое население женщин среди штатов?"
   ]
  },
  {
   "cell_type": "code",
   "execution_count": null,
   "metadata": {},
   "outputs": [],
   "source": []
  },
  {
   "cell_type": "markdown",
   "metadata": {},
   "source": [
    "5) В каком штате мужчин больше чем женщин и на сколько процентов?"
   ]
  },
  {
   "cell_type": "code",
   "execution_count": null,
   "metadata": {},
   "outputs": [],
   "source": []
  }
 ],
 "metadata": {
  "kernelspec": {
   "display_name": "Python 3",
   "language": "python",
   "name": "python3"
  },
  "language_info": {
   "codemirror_mode": {
    "name": "ipython",
    "version": 3
   },
   "file_extension": ".py",
   "mimetype": "text/x-python",
   "name": "python",
   "nbconvert_exporter": "python",
   "pygments_lexer": "ipython3",
   "version": "3.6.1"
  }
 },
 "nbformat": 4,
 "nbformat_minor": 2
}
