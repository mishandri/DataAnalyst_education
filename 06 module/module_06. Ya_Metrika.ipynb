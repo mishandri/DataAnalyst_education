{
 "cells": [
  {
   "cell_type": "code",
   "execution_count": 32,
   "metadata": {},
   "outputs": [
    {
     "name": "stdout",
     "output_type": "stream",
     "text": [
      "total Count_1 [\"{'query': {'ids': [92578723]\", \" 'dimensions': []\", \" 'metrics': ['ym:s:visits']\", \" 'sort': ['-ym:s:visits']\", \" 'date1': '2023-02-17'\", \" 'date2': '2023-02-23'\", \" 'limit': 100\", \" 'offset': 1\", \" 'group': 'Week'\", \" 'auto_group_size': '1'\", \" 'attr_name': ''\", \" 'quantile': '50'\", \" 'offline_window': '21'\", \" 'attribution': 'LastSign'\", \" 'currency': 'RUB'\", \" 'adfox_event_id': '0'}\", \" 'data': []\", \" 'total_rows': 0\", \" 'total_rows_rounded': False\", \" 'sampled': False\", \" 'contains_sensitive_data': False\", \" 'sample_share': 1.0\", \" 'sample_size': 0\", \" 'sample_space': 0\", \" 'data_lag': 0\", \" 'totals': [0.0]\", \" 'min': [0.0]\", \" 'max': [0.0]}\"]\n"
     ]
    }
   ],
   "source": [
    "import requests\n",
    "import sys\n",
    "\n",
    "header = {'Authorization': 'OAuth y0_AgAAAAAAVk4aAAku2AAAAADc_mU0FLQR0s8HQiudqpMD0nqT7UR0KjQ'}\n",
    "ids = {\n",
    "\n",
    "    'Count_1': 92578723,\n",
    "}\n",
    "\n",
    "\n",
    "payload = {\n",
    "    'metrics': 'ym:s:visits',\n",
    "    # 'date1': '2023-01-01',\n",
    "    # 'date2': '2023-02-23',\n",
    "    'ids': 92578723,\n",
    "    'accuracy': 'full',\n",
    "    'pretty': True,\n",
    "    'oauth_token': header\n",
    "}\n",
    "\n",
    "i = 1\n",
    "for key, value in ids.items():\n",
    "    payload['ids'] = value\n",
    "    r = requests.get('https://api-metrika.yandex.net/stat/v1/data', params=payload, headers=header)\n",
    "    data = str(r.json()).split(\",\")\n",
    "    i += 1\n",
    "    payload['ids'] = value\n",
    "    print('total', key, data)\n",
    "\n",
    "\n"
   ]
  },
  {
   "cell_type": "code",
   "execution_count": 40,
   "metadata": {},
   "outputs": [
    {
     "name": "stdout",
     "output_type": "stream",
     "text": [
      "Счетчик Count_1 ['0.0', ' 0.0', ' 0.0']\n"
     ]
    }
   ],
   "source": [
    "import requests\n",
    "import xlsxwriter\n",
    "\n",
    "\n",
    "workbook = xlsxwriter.Workbook('File.xlsx')\n",
    "worksheet = workbook.add_worksheet()\n",
    "bold = workbook.add_format({'bold': True})\n",
    "worksheet.write(0, 0, 'Название счетчика', bold)\n",
    "worksheet.write(0, 1, 'Номер счетчика', bold)\n",
    "worksheet.write(0, 2, 'Pageviews', bold)\n",
    "worksheet.write(0, 3, 'Users', bold)\n",
    "worksheet.write(0, 4, 'Visits', bold)\n",
    "\n",
    "header = {'Authorization': 'OAuth y0_AgAAAAAAVk4aAAku2AAAAADc_mU0FLQR0s8HQiudqpMD0nqT7UR0KjQ'}\n",
    "\n",
    "ids = {\n",
    "\n",
    "    'Count_1': 92578723,\n",
    "}\n",
    "\n",
    "payload = {\n",
    "    'metrics': 'ym:s:pageviews, ym:s:users, ym:s:visits',\n",
    "    'date1': '2018-09-01',\n",
    "    'date2': '2018-11-30',\n",
    "    'filters': \"ym:s:deviceCategory!='mobile'\",\n",
    "    'ids': 92578723,\n",
    "    'accuracy': 'high',\n",
    "    'limit': 10000,\n",
    "    'pretty': True,\n",
    "    'oauth_token':'AQAEA7qiTBNJAAVUsos1JB7stE6fiJV_SG11uso'\n",
    "}\n",
    "\n",
    "i = 1\n",
    "for key, value in ids.items():\n",
    "    payload['ids'] = value\n",
    "    r = requests.get('https://api-metrika.yandex.net/stat/v1/data', params=payload, headers=header)\n",
    "    worksheet.write(i, 0, key)\n",
    "    worksheet.write(i, 1, str(payload['ids']))\n",
    "    data = str(r.json()['max'])[1:-1].split(\",\")\n",
    "    worksheet.write(i, 2, data[0])\n",
    "    worksheet.write(i, 3, data[1])\n",
    "    worksheet.write(i, 4, data[2])\n",
    "    i += 1\n",
    "    payload['ids'] = value\n",
    "    print('Счетчик', key, data)\n",
    "\n",
    "\n",
    "workbook.close()\n"
   ]
  }
 ],
 "metadata": {
  "kernelspec": {
   "display_name": "Python 3.9.1 ('ds_env': venv)",
   "language": "python",
   "name": "python3"
  },
  "language_info": {
   "codemirror_mode": {
    "name": "ipython",
    "version": 3
   },
   "file_extension": ".py",
   "mimetype": "text/x-python",
   "name": "python",
   "nbconvert_exporter": "python",
   "pygments_lexer": "ipython3",
   "version": "3.9.1"
  },
  "vscode": {
   "interpreter": {
    "hash": "248bc044bc391cd70479aa3aa6b95972b092e756825b5eb21a1dc6ccdc62151a"
   }
  }
 },
 "nbformat": 4,
 "nbformat_minor": 2
}
