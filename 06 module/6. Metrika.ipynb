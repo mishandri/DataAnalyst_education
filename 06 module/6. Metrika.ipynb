{
 "cells": [
  {
   "cell_type": "code",
   "execution_count": 5,
   "metadata": {},
   "outputs": [
    {
     "ename": "KeyError",
     "evalue": "'max'",
     "output_type": "error",
     "traceback": [
      "\u001b[1;31m---------------------------------------------------------------------------\u001b[0m",
      "\u001b[1;31mKeyError\u001b[0m                                  Traceback (most recent call last)",
      "Cell \u001b[1;32mIn[5], line 28\u001b[0m\n\u001b[0;32m     26\u001b[0m payload[\u001b[39m'\u001b[39m\u001b[39mids\u001b[39m\u001b[39m'\u001b[39m] \u001b[39m=\u001b[39m value\n\u001b[0;32m     27\u001b[0m r \u001b[39m=\u001b[39m requests\u001b[39m.\u001b[39mget(\u001b[39m'\u001b[39m\u001b[39mhttps://api-metrika.yandex.ru/stat/v1/data\u001b[39m\u001b[39m'\u001b[39m, params\u001b[39m=\u001b[39mpayload)\n\u001b[1;32m---> 28\u001b[0m data \u001b[39m=\u001b[39m \u001b[39mstr\u001b[39m(r\u001b[39m.\u001b[39;49mjson()[\u001b[39m'\u001b[39;49m\u001b[39mmax\u001b[39;49m\u001b[39m'\u001b[39;49m])[\u001b[39m1\u001b[39m:\u001b[39m-\u001b[39m\u001b[39m1\u001b[39m]\u001b[39m.\u001b[39msplit(\u001b[39m\"\u001b[39m\u001b[39m,\u001b[39m\u001b[39m\"\u001b[39m)\n\u001b[0;32m     29\u001b[0m i \u001b[39m+\u001b[39m\u001b[39m=\u001b[39m \u001b[39m1\u001b[39m\n\u001b[0;32m     30\u001b[0m payload[\u001b[39m'\u001b[39m\u001b[39mids\u001b[39m\u001b[39m'\u001b[39m] \u001b[39m=\u001b[39m value\n",
      "\u001b[1;31mKeyError\u001b[0m: 'max'"
     ]
    }
   ],
   "source": [
    "import requests\n",
    "import sys\n",
    "\n",
    "\n",
    "ids = {\n",
    "\n",
    "    'Count_1': 49948510,\n",
    "    'Count_2': 42219334,\n",
    "    'Count_3': 21781912,\n",
    "}\n",
    "\n",
    "\n",
    "payload = {\n",
    "    'metrics': 'ym:s:pageviews, ym:s:users',\n",
    "    'date1': '2018-09-01',\n",
    "    'date2': '2018-11-30',\n",
    "    'filters': \"ym:s:deviceCategory!='mobile'\",\n",
    "    'ids': 49948510,\n",
    "    'accuracy': 'full',\n",
    "    'pretty': True,\n",
    "    'oauth_token': 'AQAEA7qiTBNJAAVUsos1JB7stE6fiJV_SG11uso'\n",
    "}\n",
    "\n",
    "i = 1\n",
    "for key, value in ids.items():\n",
    "    payload['ids'] = value\n",
    "    r = requests.get('https://api-metrika.yandex.ru/stat/v1/data', params=payload)\n",
    "    data = str(r.json()['max'])[1:-1].split(\",\")\n",
    "    i += 1\n",
    "    payload['ids'] = value\n",
    "    print('total', key, data)\n",
    "\n",
    "\n"
   ]
  },
  {
   "cell_type": "code",
   "execution_count": 42,
   "metadata": {},
   "outputs": [
    {
     "name": "stdout",
     "output_type": "stream",
     "text": [
      "Счетчик Count_1 ['36551.0', ' 10112.0', ' 17309.0']\n",
      "Счетчик Count_2 ['22768699.0', ' 584861.0', ' 2656932.0']\n",
      "Счетчик Count_3 ['13693.0', ' 7848.0', ' 10047.0']\n",
      "Счетчик Count_4 ['36551.0', ' 10112.0', ' 17309.0']\n",
      "Счетчик Count_5 ['22768699.0', ' 584861.0', ' 2656932.0']\n",
      "Счетчик Count_6 ['13693.0', ' 7848.0', ' 10047.0']\n"
     ]
    }
   ],
   "source": [
    "import requests\n",
    "import xlsxwriter\n",
    "\n",
    "\n",
    "workbook = xlsxwriter.Workbook('/Users/sashashi/Desktop/File.xlsx')\n",
    "worksheet = workbook.add_worksheet()\n",
    "bold = workbook.add_format({'bold': True})\n",
    "worksheet.write(0, 0, 'Название счетчика', bold)\n",
    "worksheet.write(0, 1, 'Номер счетчика', bold)\n",
    "worksheet.write(0, 2, 'Pageviews', bold)\n",
    "worksheet.write(0, 3, 'Users', bold)\n",
    "worksheet.write(0, 4, 'Visits', bold)\n",
    "\n",
    "\n",
    "ids = {\n",
    "\n",
    "    'Count_1': 49948510,\n",
    "    'Count_2': 42219334,\n",
    "    'Count_3': 21781912,\n",
    "}\n",
    "\n",
    "payload = {\n",
    "    'metrics': 'ym:s:pageviews, ym:s:users, ym:s:visits',\n",
    "    'date1': '2018-09-01',\n",
    "    'date2': '2018-11-30',\n",
    "    'filters': \"ym:s:deviceCategory!='mobile'\",\n",
    "    'ids': 49948510,\n",
    "    'accuracy': 'high',\n",
    "    'limit': 10000,\n",
    "    'pretty': True,\n",
    "    'oauth_token':'AQAEA7qiTBNJAAVUsos1JB7stE6fiJV_SG11uso'\n",
    "}\n",
    "\n",
    "i = 1\n",
    "for key, value in ids.items():\n",
    "    payload['ids'] = value\n",
    "    r = requests.get('https://api-metrika.yandex.ru/stat/v1/data', params=payload)\n",
    "    worksheet.write(i, 0, key)\n",
    "    worksheet.write(i, 1, str(payload['ids']))\n",
    "    data = str(r.json()['max'])[1:-1].split(\",\")\n",
    "    worksheet.write(i, 2, data[0])\n",
    "    worksheet.write(i, 3, data[1])\n",
    "    worksheet.write(i, 4, data[2])\n",
    "    i += 1\n",
    "    payload['ids'] = value\n",
    "    print('Счетчик', key, data)\n",
    "\n",
    "\n",
    "workbook.close()\n"
   ]
  },
  {
   "cell_type": "code",
   "execution_count": null,
   "metadata": {},
   "outputs": [],
   "source": []
  },
  {
   "cell_type": "code",
   "execution_count": null,
   "metadata": {},
   "outputs": [],
   "source": []
  }
 ],
 "metadata": {
  "kernelspec": {
   "display_name": "Python 3.9.1 ('ds_env': venv)",
   "language": "python",
   "name": "python3"
  },
  "language_info": {
   "codemirror_mode": {
    "name": "ipython",
    "version": 3
   },
   "file_extension": ".py",
   "mimetype": "text/x-python",
   "name": "python",
   "nbconvert_exporter": "python",
   "pygments_lexer": "ipython3",
   "version": "3.9.1"
  },
  "vscode": {
   "interpreter": {
    "hash": "248bc044bc391cd70479aa3aa6b95972b092e756825b5eb21a1dc6ccdc62151a"
   }
  }
 },
 "nbformat": 4,
 "nbformat_minor": 2
}
