{
  "cells": [
    {
      "attachments": {},
      "cell_type": "markdown",
      "metadata": {
        "id": "d5lYtakjONu8"
      },
      "source": [
        "# Курс Data Science\n",
        "## 15.2. Домашнее задание \n",
        "\n",
        "### 2.1 Домашнее задание начального уровня\n",
        "\n",
        "Вычислите евклидово расстояние между кластером *c1* и кластером *c3*. Это расстояние получилось меньше, или больше чем расстояние между кластером *c1* и кластером *c2*?\n",
        "\n",
        "Координаты центра для трёх кластеров:\n",
        "\n",
        "* \"красный\" кластер $c_1 = [1.0, 1.5]$\n",
        "* \"оранжевый\" кластер $c_2 = [-1.0, -0.5]$\n",
        "* \"зеленый\" кластер $c_3 = [1.0, -0.5]$\n",
        "\n",
        "![clustering_example](https://248006.selcdn.ru/public/DS.%20Block%202.%20M7/clustering_example.png)"
      ]
    },
    {
      "cell_type": "code",
      "execution_count": null,
      "metadata": {
        "id": "_BUBuVtnONu_"
      },
      "outputs": [],
      "source": [
        "# -- ВАШ КОД ТУТ --\n",
        "\n"
      ]
    },
    {
      "cell_type": "markdown",
      "metadata": {
        "id": "erGAkM0UONvJ"
      },
      "source": [
        "В этом уроке мы познакомились с постановкой задачи кластеризации. Мы узнали, с помощью какой функции можно вычислить расстояние между двумя точками. В следующем уроке мы рассмотрим один из самых простых алгоритмов кластеризации, который назовём алгоритмом $k-$средних."
      ]
    }
  ],
  "metadata": {
    "colab": {
      "provenance": []
    },
    "kernelspec": {
      "display_name": "Python 3",
      "language": "python",
      "name": "python3"
    },
    "language_info": {
      "codemirror_mode": {
        "name": "ipython",
        "version": 3
      },
      "file_extension": ".py",
      "mimetype": "text/x-python",
      "name": "python",
      "nbconvert_exporter": "python",
      "pygments_lexer": "ipython3",
      "version": "3.6.3"
    }
  },
  "nbformat": 4,
  "nbformat_minor": 0
}
