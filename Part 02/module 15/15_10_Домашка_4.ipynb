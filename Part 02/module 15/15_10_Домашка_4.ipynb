{
  "cells": [
    {
      "attachments": {},
      "cell_type": "markdown",
      "metadata": {
        "id": "B3KaF1cvPTEr"
      },
      "source": [
        "# Курс Data Science\n",
        "## 15.10. Домашнее задание \n",
        "\n",
        "### 10.1 Домашнее задание начального уровня\n",
        "\n",
        "Обучите *k-means* для количества кластеров $k=4$ на датасете `data/clustering.pkl`. Как изменилась метрика силуэтта? Стало лучше или хуже? Какое количество кластеров лучше, два или четыре?"
      ]
    },
    {
      "cell_type": "code",
      "execution_count": 1,
      "metadata": {
        "id": "4EerOYSgPTEu"
      },
      "outputs": [],
      "source": [
        "import pickle\n",
        "import numpy as np\n",
        "\n",
        "# данные получены с помощью функции make_classification \n",
        "with open('data/clustering.pkl', 'rb') as f:\n",
        "    data_clustering = pickle.load(f)\n",
        "\n",
        "X = np.array(data_clustering['X'])\n",
        "Y = np.array(data_clustering['Y'])"
      ]
    },
    {
      "cell_type": "code",
      "execution_count": 2,
      "metadata": {},
      "outputs": [],
      "source": [
        "import warnings\n",
        "warnings.filterwarnings('ignore')\n",
        "\n",
        "from sklearn.cluster import KMeans\n",
        "\n",
        "model = KMeans(n_clusters=4).fit(X)\n"
      ]
    },
    {
      "cell_type": "code",
      "execution_count": 3,
      "metadata": {},
      "outputs": [
        {
          "name": "stdout",
          "output_type": "stream",
          "text": [
            "Качество кластеризации по метрике Силуэтта 0.439\n"
          ]
        }
      ],
      "source": [
        "from sklearn.metrics import silhouette_score\n",
        "score = silhouette_score(X, model.labels_)\n",
        "print(f\"Качество кластеризации по метрике Силуэтта {score:.3f}\")"
      ]
    },
    {
      "attachments": {},
      "cell_type": "markdown",
      "metadata": {},
      "source": [
        "Метрика Силуэтта на модели KMeans с 4 кластерами показывает хуже результат, чем с 2 кластерами"
      ]
    },
    {
      "cell_type": "markdown",
      "metadata": {
        "id": "iUCVoJeaPTEz"
      },
      "source": [
        "\n",
        "### 10.2 Домашнее задание начального уровня\n",
        "\n",
        "Обучите *k-means* для количества кластеров $k=4$ на датасете `data/clustering.pkl`. Как изменилась метрика *AMI*? Стало лучше или хуже? Какое количество кластеров лучше по метрике AMI?"
      ]
    },
    {
      "cell_type": "code",
      "execution_count": 4,
      "metadata": {
        "id": "Q6sYr2h3PTE1"
      },
      "outputs": [
        {
          "name": "stdout",
          "output_type": "stream",
          "text": [
            "Качество кластеризации по метрике AMI 0.582\n"
          ]
        }
      ],
      "source": [
        "from sklearn.metrics import adjusted_mutual_info_score\n",
        "score = adjusted_mutual_info_score(Y, model.labels_, average_method='arithmetic')\n",
        "print(f\"Качество кластеризации по метрике AMI {score:.3f}\")"
      ]
    },
    {
      "cell_type": "markdown",
      "metadata": {
        "id": "fY8FY1FcPTE4"
      },
      "source": [
        "\n",
        "### 10.3 Домашнее задание высокого уровня\n",
        "\n",
        "Загрузите датасет `clustering_hw.csv` из приложенной директории `data` и визуализируйте данные. Должно получится как-то так:\n",
        "\n",
        "![clustering_hw](https://248006.selcdn.ru/public/DS.%20Block%202.%20M7/clustering_hw.png)\n",
        "\n",
        "В рамках домашней работы\n",
        "\n",
        "1. вычислите оптимальное количество кластеров $k$\n",
        "1. обучите k-means с количеством кластеров  $k$\n",
        "1. к какому кластеру принадлежит точка $x=(5, 8)$? к какому кластеру принадлежит точка $x=(0, 5)$? Они принадлежат к разным кластерам или одному?\n",
        "1. Каково качество кластеризации по AMI"
      ]
    },
    {
      "cell_type": "code",
      "execution_count": null,
      "metadata": {
        "id": "4XJifI-CPTE5"
      },
      "outputs": [],
      "source": [
        "# -- ВАШ КОД ТУТ --\n",
        "\n"
      ]
    },
    {
      "cell_type": "markdown",
      "metadata": {
        "id": "28VnuIijPTE8"
      },
      "source": [
        "### Заключение\n",
        "\n",
        "Мы познакомились с двумя метриками\n",
        "\n",
        "* Silhouette. Её используем, когда есть только сами объекты, а метки кластеров отсутствуют в обучающей выборке\n",
        "* AMI. Её используем, когда известны \"истинные\" метки кластеров\n",
        "\n",
        "Метрик намного больше - о них можно почитать [ в документации sklearn](https://scikit-learn.org/stable/modules/classes.html#clustering-metrics)"
      ]
    }
  ],
  "metadata": {
    "colab": {
      "provenance": []
    },
    "kernelspec": {
      "display_name": "env",
      "language": "python",
      "name": "python3"
    },
    "language_info": {
      "codemirror_mode": {
        "name": "ipython",
        "version": 3
      },
      "file_extension": ".py",
      "mimetype": "text/x-python",
      "name": "python",
      "nbconvert_exporter": "python",
      "pygments_lexer": "ipython3",
      "version": "3.9.1"
    },
    "vscode": {
      "interpreter": {
        "hash": "92f33a66f93cfcba43e597226f1681fccc852ee4f6acc6fa27bab1e511799b46"
      }
    }
  },
  "nbformat": 4,
  "nbformat_minor": 0
}
