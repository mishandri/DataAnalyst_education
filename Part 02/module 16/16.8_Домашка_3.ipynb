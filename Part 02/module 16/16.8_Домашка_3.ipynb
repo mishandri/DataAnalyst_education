{
  "cells": [
    {
      "attachments": {},
      "cell_type": "markdown",
      "metadata": {
        "id": "q92frZ1hzNT3"
      },
      "source": [
        "# Курс Data Science\n",
        "## 16.8. Домашнее задание \n"
      ]
    },
    {
      "cell_type": "markdown",
      "metadata": {},
      "source": [
        "### 8.1 Задание высокого уровня\n",
        "\n",
        "Давайте проверим, как t-sne может улучшить Ваши модели. Для начала загрузим данные и построим Baseline модель без преобразования входных данных"
      ]
    },
    {
      "cell_type": "code",
      "execution_count": 12,
      "metadata": {
        "id": "_gcQ-CQ3zNUQ"
      },
      "outputs": [],
      "source": [
        "import pandas as pd\n",
        "from sklearn.tree import DecisionTreeClassifier\n",
        "from sklearn.model_selection import train_test_split\n",
        "from sklearn.metrics import accuracy_score, roc_auc_score\n",
        "\n",
        "def eval_model(input_x, input_y):\n",
        "    \"\"\"Обучаем и валидируем модель\"\"\"\n",
        "    X_train, X_test, y_train, y_test = train_test_split(\n",
        "        input_x, input_y, test_size=.3, stratify=y, random_state=42\n",
        "    )\n",
        "    # Для примера возьмём неглубокое дерево решений\n",
        "    clf = DecisionTreeClassifier(max_depth=2, random_state=42)\n",
        "    clf.fit(X_train, y_train)\n",
        "    preds = clf.predict_proba(X_test)\n",
        "    acc_score = accuracy_score(y_test, preds.argmax(axis=1))\n",
        "    print(f'Accuracy: {acc_score}')\n",
        "    \n",
        "df_source = pd.read_csv('data/client_segmentation.csv')\n",
        "X = df_source[['call_diff','sms_diff','traffic_diff']].values\n",
        "y = df_source.customes_class.values"
      ]
    },
    {
      "cell_type": "markdown",
      "metadata": {
        "id": "EGcbYYxLzNUq"
      },
      "source": [
        "Вычисляем скор baseline модели (по тестовым данным)"
      ]
    },
    {
      "cell_type": "code",
      "execution_count": 13,
      "metadata": {
        "id": "iM-fSpU1zNUw",
        "outputId": "25f8725f-4504-4ac1-d287-4abae60acc3b"
      },
      "outputs": [
        {
          "name": "stdout",
          "output_type": "stream",
          "text": [
            "Accuracy: 0.8\n"
          ]
        }
      ],
      "source": [
        "eval_model(X, y)"
      ]
    },
    {
      "cell_type": "markdown",
      "metadata": {
        "id": "bWmS26jdzNVJ"
      },
      "source": [
        "Алгоритм выполнения домашней работы:\n",
        "\n",
        "* выполните PCA преобразование матрицы $X$, передайте новую матрицу в `eval_model`. Какое значение Accuracy получили?\n",
        "* выполните t-sne преобразование матрицы $X$, передайте новую матрицу в `eval_model`. Какое значение Accuracy получили?\n",
        "\n",
        "Какие выводы можно сделать?"
      ]
    },
    {
      "cell_type": "code",
      "execution_count": 14,
      "metadata": {},
      "outputs": [],
      "source": [
        "from sklearn.decomposition import PCA, TruncatedSVD\n",
        "from sklearn.manifold import TSNE\n",
        "\n",
        "model_PCA = PCA(n_components=2).fit(X).transform(X)\n",
        "model_TSNE = TSNE(n_components=2).fit_transform(X)\n"
      ]
    },
    {
      "cell_type": "code",
      "execution_count": 15,
      "metadata": {},
      "outputs": [
        {
          "name": "stdout",
          "output_type": "stream",
          "text": [
            "Accuracy: 0.8333333333333334\n",
            "Accuracy: 0.8666666666666667\n"
          ]
        }
      ],
      "source": [
        "eval_model(model_PCA, y)\n",
        "eval_model(model_TSNE, y)"
      ]
    },
    {
      "cell_type": "markdown",
      "metadata": {
        "id": "i-qWNTVlzNVa"
      },
      "source": [
        "В этом уроке мы познакомились с новым алгоритмом t-SNE. Какие у него есть недостатки?\n",
        "\n",
        "* требует бережной настройки параметров на валидационной выборке (см. документацию - там очень много параметров)\n",
        "* плохо работает, когда данных очень много.\n",
        "\n",
        "На больших объёмах данных (более 10к элементов) следует применять более простые алгоритмы - PCA или SVD."
      ]
    }
  ],
  "metadata": {
    "colab": {
      "provenance": []
    },
    "kernelspec": {
      "display_name": "env",
      "language": "python",
      "name": "python3"
    },
    "language_info": {
      "codemirror_mode": {
        "name": "ipython",
        "version": 3
      },
      "file_extension": ".py",
      "mimetype": "text/x-python",
      "name": "python",
      "nbconvert_exporter": "python",
      "pygments_lexer": "ipython3",
      "version": "3.9.1"
    },
    "vscode": {
      "interpreter": {
        "hash": "92f33a66f93cfcba43e597226f1681fccc852ee4f6acc6fa27bab1e511799b46"
      }
    }
  },
  "nbformat": 4,
  "nbformat_minor": 0
}
