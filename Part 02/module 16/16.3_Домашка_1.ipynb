{
  "cells": [
    {
      "attachments": {},
      "cell_type": "markdown",
      "metadata": {
        "id": "3Rgv1GMESZkV"
      },
      "source": [
        "# Курс Data Science\n",
        "## 16.3 Домашнее задание\n"
      ]
    },
    {
      "attachments": {},
      "cell_type": "markdown",
      "metadata": {},
      "source": [
        "### 3.1 Задание среднего уровня.\n",
        "\n",
        "В домашней работе предлагается применить PCA трехмерным данным по оттоку, которые содержатся в файле `data/client_segmentation.csv`. В файле содержится информация по клиентам оператора связи о том, как изменилось потребление услуг оператора за два месяца:\n",
        "* call_diff доля звонков\n",
        "* sms_diff доля смс\n",
        "* доля интернет-трафика traffic_diff"
      ]
    },
    {
      "attachments": {},
      "cell_type": "markdown",
      "metadata": {
        "id": "XvCoaldpSZkc"
      },
      "source": [
        "Все показатели вычисляются по формуле\n",
        "\n",
        "$$\n",
        "\\frac{\\text{new-value}-\\text{old-value}}{\\text{old-value}}\n",
        "$$\n",
        "\n",
        "В последней колонке customes_class содержится метка по оттоку:\n",
        "* $0$ - активный пользователя\n",
        "* $1$ - \"спящий\" пользователь (редко пользуется услугами)\n",
        "* $2$ - пользователь, который ушел в отток\n",
        "\n",
        "Получается у нас три фичи (датасет трёхмерный) и задача классификации на три класса.\n",
        "\n",
        "загружаем датасет в память"
      ]
    },
    {
      "cell_type": "code",
      "execution_count": 67,
      "metadata": {
        "colab": {
          "base_uri": "https://localhost:8080/",
          "height": 204
        },
        "id": "SBZ6VoP9SZkg",
        "outputId": "00c27b55-cacc-424b-c184-3e65460c0da0"
      },
      "outputs": [
        {
          "data": {
            "text/html": [
              "<div>\n",
              "<style scoped>\n",
              "    .dataframe tbody tr th:only-of-type {\n",
              "        vertical-align: middle;\n",
              "    }\n",
              "\n",
              "    .dataframe tbody tr th {\n",
              "        vertical-align: top;\n",
              "    }\n",
              "\n",
              "    .dataframe thead th {\n",
              "        text-align: right;\n",
              "    }\n",
              "</style>\n",
              "<table border=\"1\" class=\"dataframe\">\n",
              "  <thead>\n",
              "    <tr style=\"text-align: right;\">\n",
              "      <th></th>\n",
              "      <th>call_diff</th>\n",
              "      <th>sms_diff</th>\n",
              "      <th>traffic_diff</th>\n",
              "      <th>customes_class</th>\n",
              "    </tr>\n",
              "  </thead>\n",
              "  <tbody>\n",
              "    <tr>\n",
              "      <th>0</th>\n",
              "      <td>-0.666421</td>\n",
              "      <td>0.444911</td>\n",
              "      <td>-0.273538</td>\n",
              "      <td>0.0</td>\n",
              "    </tr>\n",
              "    <tr>\n",
              "      <th>1</th>\n",
              "      <td>-0.889273</td>\n",
              "      <td>-0.537896</td>\n",
              "      <td>-1.959469</td>\n",
              "      <td>2.0</td>\n",
              "    </tr>\n",
              "    <tr>\n",
              "      <th>2</th>\n",
              "      <td>-0.841503</td>\n",
              "      <td>0.846665</td>\n",
              "      <td>0.727606</td>\n",
              "      <td>0.0</td>\n",
              "    </tr>\n",
              "    <tr>\n",
              "      <th>3</th>\n",
              "      <td>1.389749</td>\n",
              "      <td>0.390911</td>\n",
              "      <td>1.789246</td>\n",
              "      <td>1.0</td>\n",
              "    </tr>\n",
              "    <tr>\n",
              "      <th>4</th>\n",
              "      <td>-1.228211</td>\n",
              "      <td>-1.375899</td>\n",
              "      <td>-1.434209</td>\n",
              "      <td>2.0</td>\n",
              "    </tr>\n",
              "  </tbody>\n",
              "</table>\n",
              "</div>"
            ],
            "text/plain": [
              "   call_diff  sms_diff  traffic_diff  customes_class\n",
              "0  -0.666421  0.444911     -0.273538             0.0\n",
              "1  -0.889273 -0.537896     -1.959469             2.0\n",
              "2  -0.841503  0.846665      0.727606             0.0\n",
              "3   1.389749  0.390911      1.789246             1.0\n",
              "4  -1.228211 -1.375899     -1.434209             2.0"
            ]
          },
          "execution_count": 67,
          "metadata": {},
          "output_type": "execute_result"
        }
      ],
      "source": [
        "import pandas as pd\n",
        "import numpy as np\n",
        "import matplotlib.pyplot as plt\n",
        "from mpl_toolkits.mplot3d import Axes3D\n",
        "%matplotlib inline\n",
        "df_source = pd.read_csv('data/client_segmentation.csv')\n",
        "X = df_source[['call_diff', 'sms_diff', 'traffic_diff']].values\n",
        "y = df_source.customes_class.values\n",
        "\n",
        "df_source.head()"
      ]
    },
    {
      "attachments": {},
      "cell_type": "markdown",
      "metadata": {
        "id": "uZWvu-DhSZku"
      },
      "source": [
        "**В рамках домашнего задания**\n",
        "\n",
        "1. Визуализируйте первый и третий столбец из набора данных `call_diff` и `traffic_diff` в виде scatter\n",
        "2. Постройте PCA  сожмите их до одномерного случая, визуализируйте результат\n"
      ]
    },
    {
      "cell_type": "code",
      "execution_count": 71,
      "metadata": {},
      "outputs": [
        {
          "data": {
            "text/plain": [
              "array([[-0.66642088, -0.27353803],\n",
              "       [-0.88927281, -1.95946861],\n",
              "       [-0.84150307,  0.72760594],\n",
              "       [ 1.38974939,  1.78924575],\n",
              "       [-1.22821053, -1.43420875],\n",
              "       [-0.11931996,  1.35616198],\n",
              "       [ 1.23620879,  1.57670459],\n",
              "       [-0.90744735, -1.25021869],\n",
              "       [-1.16059805, -1.62842259],\n",
              "       [-0.76099026,  2.43762353],\n",
              "       [-1.69791487,  1.86271996],\n",
              "       [ 0.32890444, -0.23930227],\n",
              "       [ 0.97431728,  0.9251218 ],\n",
              "       [ 2.26522832,  2.99312217],\n",
              "       [-1.35754653,  0.2794614 ],\n",
              "       [-1.24197713, -0.84751283],\n",
              "       [ 1.23880773,  1.56455568],\n",
              "       [ 1.06686075,  1.12087642],\n",
              "       [-1.3786289 ,  0.06470379],\n",
              "       [ 1.74407886,  2.39012683],\n",
              "       [ 0.10075893,  0.64219553],\n",
              "       [-1.24690633,  2.09951596],\n",
              "       [-0.5760517 , -1.23914966],\n",
              "       [ 1.61081926,  1.97220935],\n",
              "       [ 2.04945536,  2.42895516],\n",
              "       [ 1.45856895,  1.66939007],\n",
              "       [-0.51711372, -2.68951609],\n",
              "       [-0.55004793, -0.54906783],\n",
              "       [-1.41216815,  0.96250369],\n",
              "       [-1.25571202, -2.32869131],\n",
              "       [-0.87535879, -0.24293617],\n",
              "       [ 1.35793586,  1.58844358],\n",
              "       [ 0.43954042,  0.15480323],\n",
              "       [-0.89345757,  0.88568641],\n",
              "       [-1.75098276,  0.73800816],\n",
              "       [ 2.3749884 ,  3.43455897],\n",
              "       [ 1.00096875,  1.08744424],\n",
              "       [ 0.86759821,  0.59943027],\n",
              "       [ 1.02641199,  0.66013894],\n",
              "       [-1.07998995, -1.02922492],\n",
              "       [ 0.07575867, -1.6320928 ],\n",
              "       [ 0.91494533,  0.81548275],\n",
              "       [-1.28368825,  2.47675341],\n",
              "       [-1.56122092,  1.28263614],\n",
              "       [-0.09244747, -2.86954414],\n",
              "       [-1.27171463,  0.40964694],\n",
              "       [-0.61720272,  0.33027568],\n",
              "       [-1.42972258,  1.35980639],\n",
              "       [-0.30067599, -2.32074844],\n",
              "       [ 1.38748688,  1.91965674],\n",
              "       [-0.41726347,  1.6873503 ],\n",
              "       [-1.33332748,  1.1010387 ],\n",
              "       [-1.7060371 ,  1.14766785],\n",
              "       [-0.44266088,  2.18029319],\n",
              "       [-0.99557526,  2.6500511 ],\n",
              "       [-1.60774873, -0.68775437],\n",
              "       [-1.10488856, -0.0484369 ],\n",
              "       [ 0.12457901, -2.85129122],\n",
              "       [-0.64708913,  0.99612837],\n",
              "       [-0.49158848,  2.21259824],\n",
              "       [ 1.34715743,  1.85991202],\n",
              "       [-1.85901141,  1.97327327],\n",
              "       [-2.23061435,  0.9567616 ],\n",
              "       [-2.48673598,  0.43106742],\n",
              "       [ 1.29108076,  1.36808506],\n",
              "       [ 0.06957864, -1.8451137 ],\n",
              "       [ 1.08685707,  1.26192216],\n",
              "       [-1.10705325, -1.5546931 ],\n",
              "       [-1.00670526,  0.79680395],\n",
              "       [-1.00317326, -1.65068712],\n",
              "       [ 0.08626187,  0.90618256],\n",
              "       [-0.3567221 ,  2.26409375],\n",
              "       [-0.2824443 , -1.30251853],\n",
              "       [-0.51110576, -2.39069174],\n",
              "       [-2.5109549 ,  1.36157731],\n",
              "       [-1.97815784,  0.06364677],\n",
              "       [-0.03597842, -1.32218824],\n",
              "       [ 1.62911714,  1.83665896],\n",
              "       [ 0.07134012, -0.69349698],\n",
              "       [ 0.64075278,  0.41131358],\n",
              "       [ 1.70324301,  2.10907856],\n",
              "       [ 0.18957444, -3.1292013 ],\n",
              "       [ 1.55241903,  1.86148939],\n",
              "       [ 1.85595806,  2.50129813],\n",
              "       [-0.13193986, -1.85283501],\n",
              "       [ 0.52753511,  0.1881666 ],\n",
              "       [-0.49209924, -1.32312799],\n",
              "       [-0.4442024 , -0.9314789 ],\n",
              "       [ 1.73130773,  2.43591653],\n",
              "       [-1.25084653, -1.13959816],\n",
              "       [-0.89606492, -0.77645296],\n",
              "       [-1.79902661, -0.03041445],\n",
              "       [ 1.18848364,  1.57667172],\n",
              "       [-1.12201511, -1.13196676],\n",
              "       [-0.53859342,  1.23307744],\n",
              "       [ 1.50642527,  2.09611528],\n",
              "       [-1.9489874 ,  0.9437931 ],\n",
              "       [-1.38425311,  2.85482431],\n",
              "       [ 1.95720784,  2.75022086],\n",
              "       [-1.61280262, -1.02092111]])"
            ]
          },
          "execution_count": 71,
          "metadata": {},
          "output_type": "execute_result"
        }
      ],
      "source": []
    },
    {
      "cell_type": "code",
      "execution_count": 73,
      "metadata": {
        "id": "goD6s2LJSZkx"
      },
      "outputs": [
        {
          "data": {
            "image/png": "[encoded data removed]",
            "text/plain": [
              "<Figure size 640x480 with 1 Axes>"
            ]
          },
          "metadata": {},
          "output_type": "display_data"
        }
      ],
      "source": [
        "import matplotlib.pyplot as plt\n",
        "%matplotlib inline\n",
        "from sklearn.decomposition import PCA\n",
        "\n",
        "pca = PCA(n_components=1).fit(X[:,[0,2]])\n",
        "\n",
        "X_pca = pca.transform(X[:,[0,2]])\n",
        "X_new = pca.inverse_transform(X_pca)\n",
        "\n",
        "plt.scatter(X[:,0], X[:,2])\n",
        "plt.plot(X_new[:,0], X_new[:,1], 'o', c='orange')\n",
        "plt.show()"
      ]
    },
    {
      "attachments": {},
      "cell_type": "markdown",
      "metadata": {
        "id": "EumoWHntSZk7"
      },
      "source": [
        "### 3.2 Задание высокого уровня\n",
        "\n",
        "Сжимать двумерные данные не очень интересно, давайте попробуем применить PCA к трёхмерному датасету и сжать данные до размерности $n=2$.\n"
      ]
    },
    {
      "attachments": {},
      "cell_type": "markdown",
      "metadata": {
        "id": "33l8jZe3SZlF"
      },
      "source": [
        "С помощью класса `sklearn.decomposition.PCA` выполните понижение размерности признакового пространства  с $n=3$ до $n=2$ и снова визуализируйте данные. Картинка должна получится примерно такая:\n",
        "\n",
        "![classification_dim_reduction](https://248006.selcdn.ru/public/DS.%20Block%202.%20M8/classification_dim_reduction.png)"
      ]
    },
    {
      "cell_type": "code",
      "execution_count": null,
      "metadata": {
        "id": "55Q_eG_sSZlH"
      },
      "outputs": [],
      "source": [
        "# -- ВАШ КОД ТУТ --\n",
        "\n"
      ]
    },
    {
      "cell_type": "markdown",
      "metadata": {
        "id": "bU7ahNQgSZlO"
      },
      "source": [
        "В этом уроке мы научились применять алгоритм PCA  понизили размерность датасета с $n=2$ до $n=1$.\n",
        "\n",
        "В следующем уроке мы реализуем алгоритм PCA на языке python по шагам."
      ]
    }
  ],
  "metadata": {
    "colab": {
      "provenance": []
    },
    "kernelspec": {
      "display_name": "env",
      "language": "python",
      "name": "python3"
    },
    "language_info": {
      "codemirror_mode": {
        "name": "ipython",
        "version": 3
      },
      "file_extension": ".py",
      "mimetype": "text/x-python",
      "name": "python",
      "nbconvert_exporter": "python",
      "pygments_lexer": "ipython3",
      "version": "3.9.1"
    },
    "vscode": {
      "interpreter": {
        "hash": "92f33a66f93cfcba43e597226f1681fccc852ee4f6acc6fa27bab1e511799b46"
      }
    }
  },
  "nbformat": 4,
  "nbformat_minor": 0
}
