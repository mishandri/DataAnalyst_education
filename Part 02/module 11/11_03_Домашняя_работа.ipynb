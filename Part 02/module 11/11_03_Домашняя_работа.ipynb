{
  "cells": [
    {
      "attachments": {},
      "cell_type": "markdown",
      "metadata": {
        "id": "WAyRDni_6GHU"
      },
      "source": [
        "### Урок 3. Домашняя работа\n",
        "\n",
        "Есть два набора точек - *x_hw* и *y_hw*. В рамках домашней работы нужно\n",
        "* визуализировать набор точек\n",
        "* найти коэффициенты регрессии $w_0, w_1$ по шагам, как в уроке\n",
        "* посчитать предсказание в виде $\\hat{y} = w_0 + w_1x$ и визуализировать его вместе с точками *x_hw* и *y_hw*"
      ]
    },
    {
      "cell_type": "code",
      "execution_count": 18,
      "metadata": {
        "id": "74wa1k6p6GHf"
      },
      "outputs": [
        {
          "data": {
            "image/png": "[encoded data removed]",
            "text/plain": [
              "<Figure size 432x288 with 1 Axes>"
            ]
          },
          "metadata": {
            "needs_background": "light"
          },
          "output_type": "display_data"
        }
      ],
      "source": [
        "x_hw = [50, 60, 70, 100]\n",
        "y_hw = [10, 15, 40, 45]\n",
        "from matplotlib import pyplot as plt\n",
        "%matplotlib inline\n",
        "\n",
        "plt.scatter(x_hw, y_hw, 40, alpha=0.8)\n",
        "plt.show()"
      ]
    },
    {
      "cell_type": "code",
      "execution_count": 19,
      "metadata": {},
      "outputs": [],
      "source": [
        "import numpy as np\n",
        "\n",
        "X = np.array([[1, 50],[1, 60],[1, 70],[1, 100]])\n",
        "Y = np.array([[10],[15],[40],[45]])"
      ]
    },
    {
      "cell_type": "code",
      "execution_count": 20,
      "metadata": {},
      "outputs": [
        {
          "data": {
            "text/plain": [
              "(-22.499999999999975, 0.7142857142857139)"
            ]
          },
          "execution_count": 20,
          "metadata": {},
          "output_type": "execute_result"
        }
      ],
      "source": [
        "w[0][0],w[1][0]"
      ]
    },
    {
      "cell_type": "code",
      "execution_count": 21,
      "metadata": {},
      "outputs": [
        {
          "data": {
            "image/png": "[encoded data removed]",
            "text/plain": [
              "<Figure size 432x288 with 1 Axes>"
            ]
          },
          "metadata": {
            "needs_background": "light"
          },
          "output_type": "display_data"
        }
      ],
      "source": [
        "margin = 10\n",
        "X_min = 20\n",
        "X_max = X[:,1].max()+margin\n",
        "\n",
        "# набор точек, чтобы нарисовать прямую\n",
        "X_support = np.linspace(X_min, X_max, num=100)\n",
        "# предсказания нашей модели\n",
        "Y_model = w[0][0] + w[1][0]*X_support\n",
        "\n",
        "\n",
        "plt.xlim(X_min, X_max)\n",
        "plt.ylim(0, Y[:,0].max() + margin)\n",
        "# рисуем исходные точки\n",
        "plt.scatter(X[:,1], Y[:,0], 40, 'g', 'o', alpha=0.8)\n",
        "# предсказания модели\n",
        "plt.plot(X_support, Y_model)\n",
        "\n",
        "plt.show()"
      ]
    }
  ],
  "metadata": {
    "colab": {
      "provenance": []
    },
    "kernelspec": {
      "display_name": "Python 3",
      "language": "python",
      "name": "python3"
    },
    "language_info": {
      "codemirror_mode": {
        "name": "ipython",
        "version": 3
      },
      "file_extension": ".py",
      "mimetype": "text/x-python",
      "name": "python",
      "nbconvert_exporter": "python",
      "pygments_lexer": "ipython3",
      "version": "3.9.1"
    },
    "vscode": {
      "interpreter": {
        "hash": "bbefd02988a91d2e58b62fe75a013374c8d4407cf906c5d749478840b6f9d18b"
      }
    }
  },
  "nbformat": 4,
  "nbformat_minor": 0
}
