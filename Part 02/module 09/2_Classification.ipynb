{
  "cells": [
    {
      "cell_type": "markdown",
      "metadata": {},
      "source": [
        "# Курс Data Science\n",
        "## Модуль 9.2 Классификация"
      ]
    },
    {
      "cell_type": "markdown",
      "metadata": {},
      "source": [
        "Общий посыл такой: Определение групп, к которым принадлежат объекты  \n",
        "<img src=\"..\\img\\sklearn-2-7461609.png\"  width=300>"
      ]
    },
    {
      "cell_type": "code",
      "execution_count": 1,
      "metadata": {
        "id": "LyWl6MGTi0f7"
      },
      "outputs": [],
      "source": [
        "import numpy as np\n",
        "import pandas as pd"
      ]
    },
    {
      "cell_type": "code",
      "execution_count": 2,
      "metadata": {
        "id": "LS71t19Mi0f-"
      },
      "outputs": [],
      "source": [
        "# загружаем данные\n",
        "houses = pd.read_csv(\"houses.csv\")"
      ]
    },
    {
      "cell_type": "code",
      "execution_count": 8,
      "metadata": {
        "id": "G6pjMZgni0gB",
        "outputId": "204f65e3-2c06-497e-aa8d-1990cc0c2ede"
      },
      "outputs": [
        {
          "data": {
            "text/html": [
              "<div>\n",
              "<style scoped>\n",
              "    .dataframe tbody tr th:only-of-type {\n",
              "        vertical-align: middle;\n",
              "    }\n",
              "\n",
              "    .dataframe tbody tr th {\n",
              "        vertical-align: top;\n",
              "    }\n",
              "\n",
              "    .dataframe thead th {\n",
              "        text-align: right;\n",
              "    }\n",
              "</style>\n",
              "<table border=\"1\" class=\"dataframe\">\n",
              "  <thead>\n",
              "    <tr style=\"text-align: right;\">\n",
              "      <th></th>\n",
              "      <th>dim_1</th>\n",
              "      <th>dim_2</th>\n",
              "      <th>level</th>\n",
              "      <th>price</th>\n",
              "    </tr>\n",
              "  </thead>\n",
              "  <tbody>\n",
              "    <tr>\n",
              "      <th>0</th>\n",
              "      <td>29</td>\n",
              "      <td>28</td>\n",
              "      <td>luxury</td>\n",
              "      <td>2212.0</td>\n",
              "    </tr>\n",
              "    <tr>\n",
              "      <th>1</th>\n",
              "      <td>28</td>\n",
              "      <td>29</td>\n",
              "      <td>luxury</td>\n",
              "      <td>2203.0</td>\n",
              "    </tr>\n",
              "    <tr>\n",
              "      <th>2</th>\n",
              "      <td>6</td>\n",
              "      <td>9</td>\n",
              "      <td>basic</td>\n",
              "      <td>254.0</td>\n",
              "    </tr>\n",
              "    <tr>\n",
              "      <th>3</th>\n",
              "      <td>5</td>\n",
              "      <td>9</td>\n",
              "      <td>basic</td>\n",
              "      <td>242.0</td>\n",
              "    </tr>\n",
              "    <tr>\n",
              "      <th>4</th>\n",
              "      <td>6</td>\n",
              "      <td>6</td>\n",
              "      <td>basic</td>\n",
              "      <td>195.0</td>\n",
              "    </tr>\n",
              "  </tbody>\n",
              "</table>\n",
              "</div>"
            ],
            "text/plain": [
              "   dim_1  dim_2   level   price\n",
              "0     29     28  luxury  2212.0\n",
              "1     28     29  luxury  2203.0\n",
              "2      6      9   basic   254.0\n",
              "3      5      9   basic   242.0\n",
              "4      6      6   basic   195.0"
            ]
          },
          "execution_count": 8,
          "metadata": {},
          "output_type": "execute_result"
        }
      ],
      "source": [
        "houses.head(5)"
      ]
    },
    {
      "cell_type": "code",
      "execution_count": 4,
      "metadata": {
        "id": "81FvX5XJi0gG"
      },
      "outputs": [],
      "source": [
        "# импортируем модуль, отвечающий за деревья решений\n",
        "from sklearn.tree import DecisionTreeClassifier\n",
        "from sklearn.tree import export_text"
      ]
    },
    {
      "cell_type": "code",
      "execution_count": 5,
      "metadata": {
        "id": "pEzozG4Ti0gI"
      },
      "outputs": [],
      "source": [
        "# выгружаем признаки и целевые значения в отдельные переменные\n",
        "X = houses[[\"dim_1\", \"dim_2\"]]\n",
        "y = houses[\"level\"]\n",
        "\n",
        "# создаем классификатор\n",
        "cl = DecisionTreeClassifier().fit(X, y)"
      ]
    },
    {
      "cell_type": "code",
      "execution_count": 6,
      "metadata": {
        "id": "r2CRqOdIi0gK",
        "outputId": "fc58c9a2-c1d5-40d2-dd91-39032b828930"
      },
      "outputs": [
        {
          "name": "stdout",
          "output_type": "stream",
          "text": [
            "|--- feature_0 <= 10.00\n",
            "|   |--- class: basic\n",
            "|--- feature_0 >  10.00\n",
            "|   |--- feature_0 <= 25.00\n",
            "|   |   |--- class: medium\n",
            "|   |--- feature_0 >  25.00\n",
            "|   |   |--- class: luxury\n",
            "\n"
          ]
        }
      ],
      "source": [
        "# выведем информацию для интерпретации построенной модели\n",
        "print(export_text(cl))"
      ]
    },
    {
      "cell_type": "markdown",
      "metadata": {},
      "source": [
        "feature_0 => dim_1  \n",
        "feature_1 => dim_2"
      ]
    },
    {
      "cell_type": "code",
      "execution_count": 14,
      "metadata": {
        "id": "BZuXoNS-i0gN",
        "outputId": "10092c94-8de4-42ee-a42c-ac8fe139fdf6"
      },
      "outputs": [
        {
          "data": {
            "text/plain": [
              "('basic', 'basic')"
            ]
          },
          "execution_count": 14,
          "metadata": {},
          "output_type": "execute_result"
        }
      ],
      "source": [
        "# проведем классификацию\n",
        "cl.predict(X[2:3])[0], y[2]"
      ]
    },
    {
      "cell_type": "code",
      "execution_count": 15,
      "metadata": {},
      "outputs": [
        {
          "data": {
            "text/plain": [
              "('luxury', 'luxury')"
            ]
          },
          "execution_count": 15,
          "metadata": {},
          "output_type": "execute_result"
        }
      ],
      "source": [
        "cl.predict(X[0:1])[0], y[0]"
      ]
    }
  ],
  "metadata": {
    "colab": {
      "provenance": []
    },
    "kernelspec": {
      "display_name": "Python 3.9.1 ('ds_env': venv)",
      "language": "python",
      "name": "python3"
    },
    "language_info": {
      "codemirror_mode": {
        "name": "ipython",
        "version": 3
      },
      "file_extension": ".py",
      "mimetype": "text/x-python",
      "name": "python",
      "nbconvert_exporter": "python",
      "pygments_lexer": "ipython3",
      "version": "3.9.1"
    },
    "vscode": {
      "interpreter": {
        "hash": "248bc044bc391cd70479aa3aa6b95972b092e756825b5eb21a1dc6ccdc62151a"
      }
    }
  },
  "nbformat": 4,
  "nbformat_minor": 0
}
