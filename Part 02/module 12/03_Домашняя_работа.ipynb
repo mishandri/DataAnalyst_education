{
  "cells": [
    {
      "cell_type": "markdown",
      "metadata": {
        "id": "idnfa1hXYUOh"
      },
      "source": [
        "# Курс Data Science\n",
        "## Модуль 12.3 Домашняя работа\n",
        "\n",
        "**Задание простого уровня** Загрузите данные из файла `non_linear.csv` и сгенерируйте данные до степени *degree = 8* включительно. Обучите модель `sklearn.linear_model.Lasso` и модель `sklearn.linear_model.Ridge` на полученных данных, используйте коэффициент регуляризации $\\alpha=0.8$ для обеих моделей. Постройте два столбчатых графика, на которых отобразите величину коэффициентов для Ridge регрессии и Lasso регрессии в виде столбиков.\n",
        "\n",
        "Пример графиков для 3-й степени (просто для примера, у вас может по-другому выглядеть). Какой можно сделать в вывод по величине коэффициентов?:\n",
        "![coeff_example](https://pp.userapi.com/c850136/v850136613/19282c/OfwruuxOkPw.jpg)"
      ]
    },
    {
      "cell_type": "code",
      "execution_count": 76,
      "metadata": {
        "id": "bYGmSdz4YUOh"
      },
      "outputs": [
        {
          "data": {
            "text/html": [
              "<div>\n",
              "<style scoped>\n",
              "    .dataframe tbody tr th:only-of-type {\n",
              "        vertical-align: middle;\n",
              "    }\n",
              "\n",
              "    .dataframe tbody tr th {\n",
              "        vertical-align: top;\n",
              "    }\n",
              "\n",
              "    .dataframe thead th {\n",
              "        text-align: right;\n",
              "    }\n",
              "</style>\n",
              "<table border=\"1\" class=\"dataframe\">\n",
              "  <thead>\n",
              "    <tr style=\"text-align: right;\">\n",
              "      <th></th>\n",
              "      <th>x_train</th>\n",
              "      <th>y_train</th>\n",
              "    </tr>\n",
              "  </thead>\n",
              "  <tbody>\n",
              "    <tr>\n",
              "      <th>0</th>\n",
              "      <td>0.138368</td>\n",
              "      <td>0.838812</td>\n",
              "    </tr>\n",
              "    <tr>\n",
              "      <th>1</th>\n",
              "      <td>0.157237</td>\n",
              "      <td>0.889313</td>\n",
              "    </tr>\n",
              "    <tr>\n",
              "      <th>2</th>\n",
              "      <td>0.188684</td>\n",
              "      <td>1.430040</td>\n",
              "    </tr>\n",
              "    <tr>\n",
              "      <th>3</th>\n",
              "      <td>0.685553</td>\n",
              "      <td>1.717309</td>\n",
              "    </tr>\n",
              "    <tr>\n",
              "      <th>4</th>\n",
              "      <td>0.874237</td>\n",
              "      <td>2.032588</td>\n",
              "    </tr>\n",
              "  </tbody>\n",
              "</table>\n",
              "</div>"
            ],
            "text/plain": [
              "    x_train   y_train\n",
              "0  0.138368  0.838812\n",
              "1  0.157237  0.889313\n",
              "2  0.188684  1.430040\n",
              "3  0.685553  1.717309\n",
              "4  0.874237  2.032588"
            ]
          },
          "execution_count": 76,
          "metadata": {},
          "output_type": "execute_result"
        }
      ],
      "source": [
        "import numpy as np\n",
        "import pandas as pd\n",
        "data = pd.read_csv('non_linear.csv', sep=',')\n",
        "data.head()"
      ]
    },
    {
      "cell_type": "code",
      "execution_count": 77,
      "metadata": {},
      "outputs": [],
      "source": [
        "from sklearn.linear_model import Lasso, Ridge\n",
        "from sklearn.model_selection import train_test_split\n",
        "from sklearn.metrics import mean_squared_error\n",
        "\n",
        "import warnings\n",
        "warnings.filterwarnings('ignore')"
      ]
    },
    {
      "cell_type": "code",
      "execution_count": 78,
      "metadata": {},
      "outputs": [],
      "source": [
        "def generate_degrees(source_data: list, degree: int):\n",
        "    return np.array([\n",
        "          source_data**n for n in range(1, degree + 1)  \n",
        "    ]).T"
      ]
    },
    {
      "cell_type": "code",
      "execution_count": 79,
      "metadata": {},
      "outputs": [],
      "source": [
        "graph_Ridge_valid = []\n",
        "graph_Ridge_train = []\n",
        "graph_Lasso_valid = []\n",
        "graph_Lasso_train = []\n",
        "for degree in range(1,9):\n",
        "    X = generate_degrees(data['x_train'], degree)\n",
        "    y = data.y_train.values\n",
        "    X_train, X_valid, y_train, y_valid = train_test_split(\n",
        "        X, y, test_size=0.2, random_state=10)\n",
        "    model_Ridge = Ridge(alpha=0.8).fit(X_train, y_train)\n",
        "    model_Lasso = Lasso(alpha=0.8).fit(X_train, y_train)\n",
        "    y_pred_Ridge = model_Ridge.predict(X_valid)\n",
        "    y_pred_train_Ridge = model_Ridge.predict(X_train)\n",
        "    y_pred_Lasso = model_Lasso.predict(X_valid)\n",
        "    y_pred_train_Lasso = model_Lasso.predict(X_train)\n",
        "    graph_Ridge_valid.append(\n",
        "        mean_squared_error(y_valid, y_pred_Ridge)\n",
        "        )\n",
        "    graph_Ridge_train.append(\n",
        "        mean_squared_error(y_train, y_pred_train_Ridge)\n",
        "        )\n",
        "    \n",
        "    graph_Lasso_valid.append(\n",
        "        mean_squared_error(y_valid, y_pred_Lasso)\n",
        "        )\n",
        "    graph_Lasso_train.append(\n",
        "        mean_squared_error(y_train, y_pred_train_Lasso)\n",
        "        )\n"
      ]
    },
    {
      "cell_type": "code",
      "execution_count": 82,
      "metadata": {},
      "outputs": [
        {
          "data": {
            "image/png": "[encoded data removed]",
            "text/plain": [
              "<Figure size 640x480 with 1 Axes>"
            ]
          },
          "metadata": {},
          "output_type": "display_data"
        }
      ],
      "source": [
        "ax = [1,2,3,4,5,6,7,8]\n",
        "import matplotlib.pyplot as plt\n",
        "\n",
        "# Для перезагрузки plt\n",
        "from importlib import reload\n",
        "plt=reload(plt)\n",
        "\n",
        "plt.bar(np.array(ax) - 0.15, graph_Ridge_valid, alpha=0.5, width=0.5)\n",
        "plt.bar(np.array(ax) + 0.15, graph_Ridge_train, alpha=0.5, width=0.5)\n",
        "plt.title('Ridge')\n",
        "plt.legend([\"valid\", \"train\"])\n",
        "plt.show()"
      ]
    },
    {
      "cell_type": "code",
      "execution_count": 83,
      "metadata": {},
      "outputs": [
        {
          "data": {
            "image/png": "[encoded data removed]",
            "text/plain": [
              "<Figure size 640x480 with 1 Axes>"
            ]
          },
          "metadata": {},
          "output_type": "display_data"
        }
      ],
      "source": [
        "ax = [1,2,3,4,5,6,7,8]\n",
        "import matplotlib.pyplot as plt\n",
        "\n",
        "# Для перезагрузки plt\n",
        "from importlib import reload\n",
        "plt=reload(plt)\n",
        "\n",
        "plt.bar(np.array(ax) - 0.15, graph_Lasso_valid, alpha=0.5, width=0.5)\n",
        "plt.bar(np.array(ax) + 0.15, graph_Lasso_train, alpha=0.5, width=0.5)\n",
        "plt.title('Lasso')\n",
        "plt.legend([\"valid\", \"train\"])\n",
        "plt.show()"
      ]
    }
  ],
  "metadata": {
    "celltoolbar": "Slideshow",
    "colab": {
      "provenance": []
    },
    "kernelspec": {
      "display_name": "Python 3.9.1 ('ds_env': venv)",
      "language": "python",
      "name": "python3"
    },
    "language_info": {
      "codemirror_mode": {
        "name": "ipython",
        "version": 3
      },
      "file_extension": ".py",
      "mimetype": "text/x-python",
      "name": "python",
      "nbconvert_exporter": "python",
      "pygments_lexer": "ipython3",
      "version": "3.9.1"
    },
    "vscode": {
      "interpreter": {
        "hash": "248bc044bc391cd70479aa3aa6b95972b092e756825b5eb21a1dc6ccdc62151a"
      }
    }
  },
  "nbformat": 4,
  "nbformat_minor": 0
}
