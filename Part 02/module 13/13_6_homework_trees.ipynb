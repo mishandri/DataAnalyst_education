{
  "cells": [
    {
      "cell_type": "markdown",
      "metadata": {
        "id": "gyHxysn44I-z"
      },
      "source": [
        "# Курс Data Science\n",
        "## Модуль 13.6 Домашняя работа\n",
        "\n",
        "В уроках мы разбирали на небольшом наборе данных деревья решений без настройки гиперпараметров. Здесь предлагаем вам рассмотреть работу классификатора на более сложном датасете, применив настройку гиперпараметров."
      ]
    },
    {
      "cell_type": "markdown",
      "metadata": {
        "id": "ie9fI_rI4I-1"
      },
      "source": [
        "### 1.\n",
        "На датасете из предыдущего урока - load_wine() - обучите дерево решений (DecisionTreeClassifier)."
      ]
    },
    {
      "cell_type": "markdown",
      "metadata": {
        "id": "Fz-HWZqk4I-2"
      },
      "source": [
        "*Примечание: при установке гиперпараметров модели и разбиении на тренировочный и тестовый датасеты используйте random_state=17 для воспроизводимости результатов.*"
      ]
    },
    {
      "cell_type": "code",
      "execution_count": null,
      "metadata": {
        "id": "XdWEqtdn4I-4"
      },
      "outputs": [],
      "source": [
        "from sklearn.datasets import load_wine\n",
        "from sklearn.tree import DecisionTreeClassifier\n",
        "from sklearn.model_selection import train_test_split"
      ]
    },
    {
      "cell_type": "code",
      "execution_count": null,
      "metadata": {
        "id": "Pvq2DSbA4I-7"
      },
      "outputs": [],
      "source": [
        "### YOUR CODE HERE ###"
      ]
    },
    {
      "cell_type": "markdown",
      "metadata": {
        "id": "Lsp2IelB4I-9"
      },
      "source": [
        "### 2.\n",
        "Отобразите дерево с помощью библиотеки graphviz.\n",
        "\n",
        "*Примечание: если, изучая урок, вы не установили библиотеку graphviz, то необходимо сделать это сейчас.*"
      ]
    },
    {
      "cell_type": "code",
      "execution_count": null,
      "metadata": {
        "id": "nZhmh4K94I-_"
      },
      "outputs": [],
      "source": [
        "from sklearn import tree\n",
        "import graphviz"
      ]
    },
    {
      "cell_type": "code",
      "execution_count": null,
      "metadata": {
        "id": "xb-TBuRW4I_B"
      },
      "outputs": [],
      "source": [
        "### YOUR CODE HERE ###"
      ]
    },
    {
      "cell_type": "markdown",
      "metadata": {
        "id": "IIDx6Zyu4I_E"
      },
      "source": [
        "### 3.\n",
        "Используя полученную модель, сделайте прогноз для тестовой выборки данных и, пользуясь встроенной функцией score(), определите точность модели."
      ]
    },
    {
      "cell_type": "code",
      "execution_count": null,
      "metadata": {
        "id": "1ldL9lLx4I_E"
      },
      "outputs": [],
      "source": [
        "### YOUR CODE HERE ###"
      ]
    },
    {
      "cell_type": "markdown",
      "metadata": {
        "id": "iaZZ7PdZ4I_H"
      },
      "source": [
        "Теперь попробуем сделать начальную настройку гиперпараметров и посмотреть, что из этого выйдет. \n",
        "\n",
        "### 4.\n",
        "\n",
        "Постройте модель, указав гиперпараметр max_features равным 2 (так же указав random_state=17) и, сделав прогноз на тестовых данных, определите, стала ли модель работать точнее."
      ]
    },
    {
      "cell_type": "markdown",
      "metadata": {
        "id": "uuCNx_8J4I_I"
      },
      "source": [
        "*Примечание: гиперпараметр max_features показывает модели, сколько различных признаков необходимо использовать каждый раз при принятии решения о разделении. То есть если, допустим, у вас имеются 50 признаков, а max_features=10, то в каждом узле случайным образом выбираются 10 признаков, которые будут использоваться для поиска лучшего разделения.*"
      ]
    },
    {
      "cell_type": "code",
      "execution_count": null,
      "metadata": {
        "id": "YERr0LVB4I_J"
      },
      "outputs": [],
      "source": [
        "### YOUR CODE HERE ###"
      ]
    },
    {
      "cell_type": "markdown",
      "metadata": {
        "id": "iqSAgyN64I_L"
      },
      "source": [
        "### 5.\n",
        "Теперь постройте граф дерева решений, используя graphviz."
      ]
    },
    {
      "cell_type": "code",
      "execution_count": null,
      "metadata": {
        "id": "0TsyA7zi4I_M"
      },
      "outputs": [],
      "source": [
        "### YOUR CODE HERE ###"
      ]
    },
    {
      "cell_type": "markdown",
      "metadata": {
        "id": "XLY2b9Zj4I_R"
      },
      "source": [
        "Модель работает точнее, чем без настройки гиперпараметров, но по графу можно увидеть, что глубина дерева увеличилась, при этом в нескольких листах присутствует только по одному объекту, из-за чего на тестовом наборе данных дерево могло несколько потерять обобщающую способность."
      ]
    },
    {
      "cell_type": "markdown",
      "metadata": {
        "id": "Sn5AqeBa4I_S"
      },
      "source": [
        "Так как главная задача модели - способность обобщаться на новые данные, то для подбора оптимальных гиперпараметров надо пожертвовать небольшой порцией данных, чтобы на ней во время обучения проверять качество модели.\n",
        "\n",
        "Часто для этого используют кросс-валидацию: модель обучается K раз на (K-1) подвыборках исходной выборки, а на одной подвыборке проверяется (каждый раз на разной). Получаются K оценок качества модели, которые обычно усредняются, давая среднюю оценку.\n",
        "\n",
        "Кросс-валидация применяется для подбора гиперпараметров модели в методе GridSearchCV(): для каждой уникальной совокупности значений параметров проводится кросс-валидация и выбирается лучшее сочетание параметров."
      ]
    },
    {
      "cell_type": "markdown",
      "metadata": {
        "id": "B44jm6in4I_T"
      },
      "source": [
        "### 6.\n",
        "Используя обученное в предыдущем задании дерево решений, настройте параметры max_depth и max_features на 5-кратной валидации с помощью GridSearchCV. Для этого в функцию GridSearchCV передайте параметры (tree, tree_params, cv=5).\n",
        "\n",
        "*Примечание: tree здесь - не обученная модель, а объект, который инкапсулирует алгоритм. Например, в уроке мы его обозначали как dtc.*"
      ]
    },
    {
      "cell_type": "code",
      "execution_count": null,
      "metadata": {
        "id": "UeNf1bED4I_U"
      },
      "outputs": [],
      "source": [
        "from sklearn.model_selection import GridSearchCV, cross_val_score"
      ]
    },
    {
      "cell_type": "code",
      "execution_count": null,
      "metadata": {
        "id": "ZsXG1rh64I_X"
      },
      "outputs": [],
      "source": [
        "tree_params = {'max_depth': range(1, 6), \n",
        "               'max_features': range(1, 10)}\n",
        "\n",
        "tree_grid = #### YOUR CODE HERE ###"
      ]
    },
    {
      "cell_type": "markdown",
      "metadata": {
        "id": "tRPqIdCD4I_a"
      },
      "source": [
        "### 7.\n",
        "С помощью метода tree_grid.fit() постройте модель на тренировочных данных и выведите лучшее сочетание параметров с помощью метода tree_grid.best_params_."
      ]
    },
    {
      "cell_type": "code",
      "execution_count": null,
      "metadata": {
        "id": "JHVTQPfV4I_a"
      },
      "outputs": [],
      "source": [
        "### YOUR CODE HERE ###"
      ]
    },
    {
      "cell_type": "markdown",
      "metadata": {
        "id": "p5s_eukw4I_c"
      },
      "source": [
        "### 8.\n",
        "С помощью полученной модели сделайте прогноз - predict - для тестовой выборки и выведите долю верных ответов, проверив точность модели, используя функцию accuracy_score."
      ]
    },
    {
      "cell_type": "code",
      "execution_count": null,
      "metadata": {
        "id": "_n05UvV54I_d"
      },
      "outputs": [],
      "source": [
        "from sklearn.metrics import accuracy_score"
      ]
    },
    {
      "cell_type": "code",
      "execution_count": null,
      "metadata": {
        "id": "9N55pj4y4I_g"
      },
      "outputs": [],
      "source": [
        "predicted = ### YOUR CODE HERE ###\n",
        "accuracy = ### YOUR CODE HERE ###"
      ]
    }
  ],
  "metadata": {
    "colab": {
      "provenance": []
    },
    "kernelspec": {
      "display_name": "Python 3.9.1 ('ds_env': venv)",
      "language": "python",
      "name": "python3"
    },
    "language_info": {
      "codemirror_mode": {
        "name": "ipython",
        "version": 3
      },
      "file_extension": ".py",
      "mimetype": "text/x-python",
      "name": "python",
      "nbconvert_exporter": "python",
      "pygments_lexer": "ipython3",
      "version": "3.9.1"
    },
    "vscode": {
      "interpreter": {
        "hash": "248bc044bc391cd70479aa3aa6b95972b092e756825b5eb21a1dc6ccdc62151a"
      }
    }
  },
  "nbformat": 4,
  "nbformat_minor": 0
}
